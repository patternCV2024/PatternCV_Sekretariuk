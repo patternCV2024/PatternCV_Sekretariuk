{
 "cells": [
  {
   "cell_type": "markdown",
   "id": "bbc4e657",
   "metadata": {},
   "source": [
    "<a href=\"https://github.com/SquireUA\">Секретарюк Валерій</a>, 2024"
   ]
  },
  {
   "attachments": {},
   "cell_type": "markdown",
   "id": "538a8c0a",
   "metadata": {},
   "source": [
    "<h1 align=\"center\">Лабораторна робота 2. Побудова лінійного бінарного класифікатора на основі оптимізації функціонала якості</h1>\n",
    "<p><b>Метa:</b> реалізузвати бінарний класифікатор на основі оптимізації функціонала якості засобами мови Python</p>"
   ]
  },
  {
   "cell_type": "markdown",
   "id": "0939d964",
   "metadata": {},
   "source": [
    "<h2> Завдання для самостійної роботи </h2>"
   ]
  },
  {
   "cell_type": "code",
   "execution_count": 3,
   "id": "2360d7c2-879d-4448-8d55-c2ceead1b67d",
   "metadata": {},
   "outputs": [
    {
     "name": "stdout",
     "output_type": "stream",
     "text": [
      "[ 0.00092111 -0.02368048  0.81022199]\n"
     ]
    },
    {
     "data": {
      "image/png": "[encoded data removed]",
      "text/plain": [
       "<Figure size 640x480 with 1 Axes>"
      ]
     },
     "metadata": {},
     "output_type": "display_data"
    },
    {
     "name": "stdout",
     "output_type": "stream",
     "text": [
      "Порівняно з простим лінійним бінарним класифікатором МНК-класифікатор розрізняє образи краще, якщо образи не чітко розрізнені\n"
     ]
    }
   ],
   "source": [
    "import numpy as np\n",
    "import matplotlib.pyplot as plt\n",
    "\n",
    "array_x = []\n",
    "array_y = []\n",
    "filename = 'data.txt'  # Назва вашого файлу\n",
    "    # Відкриваємо файл для читання\n",
    "with open(filename, 'r') as file:\n",
    "    for line in file:\n",
    "        values = line.strip().split()\n",
    "        row = [int(value) for value in values]\n",
    "        if len(row) == 2:\n",
    "            array_x.append(row)\n",
    "        else:\n",
    "            array_y = row\n",
    "            \n",
    "array_x = [x + [1] for x in array_x]  # Додаємо зміщення для кожного прикладу            \n",
    "x_train = np.array(array_x)\n",
    "y_train = np.array(array_y)\n",
    "\n",
    "pt = np.sum([x * y for x, y in zip(x_train, y_train)], axis=0)  # Обчислення підсумку\n",
    "xxt = np.sum([np.outer(x, x) for x in x_train], axis=0)  # Обчислення підсумку зовнішнього добутку\n",
    "w = np.dot(pt, np.linalg.inv(xxt))  # Обчислення вагових коефіцієнтів\n",
    "print(w)\n",
    "\n",
    "line_x = list(range(max(x_train[:, 0])))    # формування координат для лінії розділення\n",
    "line_y = [-x*w[0]/w[1] - w[2]/w[1] for x in line_x]\n",
    "\n",
    "x_0 = x_train[y_train == 1]                 # формування точок для класу 1\n",
    "x_1 = x_train[y_train == -1]                # і класу -1\n",
    "\n",
    "plt.scatter(x_0[:, 0], x_0[:, 1], color='red')  # відображення точок класу 1 червоним кольором\n",
    "plt.scatter(x_1[:, 0], x_1[:, 1], color='blue')  # відображення точок класу -1 синім кольором\n",
    "plt.plot(line_x, line_y, color='green')  # відображення лінії розділення зеленим кольором\n",
    "\n",
    "plt.xlim([0, 45])\n",
    "plt.ylim([0, 75])\n",
    "plt.ylabel(\"довжина\")\n",
    "plt.xlabel(\"ширина\")\n",
    "plt.grid(True)\n",
    "plt.show()\n",
    "\n",
    "print(\"Порівняно з простим лінійним бінарним класифікатором МНК-класифікатор розрізняє образи краще, якщо образи не чітко розрізнені\")"
   ]
  },
  {
   "cell_type": "markdown",
   "id": "b81143b8",
   "metadata": {},
   "source": [
    "<h1 align=\"center\">Контрольні запитання</h1>"
   ]
  },
  {
   "cell_type": "markdown",
   "id": "bdeb7384",
   "metadata": {},
   "source": [
    "\n",
    "1.Відступ (margin) визначає відстань від розділяючої поверхні до найближчого прикладу навчання. У багатьох алгоритмах машинного навчання відступ використовується для визначення якості моделі. \r\n",
    "Роль відступу в побудові моделі класифікації полягає в тому, що він дозволяє оцінити стійкість та загальний рівень упевненості моделі в класифікації прикладів. Чим більший відступ, тим більше простір для помилок може бути забезпечений, що вказує на більшу стійкість моделі до шуму чи варіації в дани\r",
    "1. Функція втрат визначає, наскільки добре модель класифікації працює на навчальних даних, порівнюючи прогнозовані значення зі справжніми мітками класів. Її роль полягає в тому, щоб задати цільову мету для оптимізації: ми хочемо, щоб модель мінімізувала цю функцію втрат, щоб прогнози були якомога ближчими до правильних міток. Знайти коефіцієнти лінійного класифікатора шляхом безпосереднього розв'язаня задачі оптимізації через знаходження похідної не можна, через те що вона представляє собою кусочно-неперервну не диференційовану \n",
    "функці), тому застосувати градієнтний метод для його мінімізації не  \r\n",
    "можливи\n",
    "1. В простиму лінійному бінарнимому класифікатору ми задавали початкове значення вектора і покроково корезували його напрямок. В МНК-класифікаторі ми будуємо вектор з нуля за допомогою функції вт\n",
    "1. $y_i(w^Tx_i+≥1$l>"
   ]
  }
 ],
 "metadata": {
  "kernelspec": {
   "display_name": "Python 3 (ipykernel)",
   "language": "python",
   "name": "python3"
  },
  "language_info": {
   "codemirror_mode": {
    "name": "ipython",
    "version": 3
   },
   "file_extension": ".py",
   "mimetype": "text/x-python",
   "name": "python",
   "nbconvert_exporter": "python",
   "pygments_lexer": "ipython3",
   "version": "3.12.2"
  }
 },
 "nbformat": 4,
 "nbformat_minor": 5
}
